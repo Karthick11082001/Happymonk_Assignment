{
 "cells": [
  {
   "cell_type": "code",
   "execution_count": 1,
   "id": "2cf4bd92",
   "metadata": {},
   "outputs": [],
   "source": [
    "import tensorflow as tf\n",
    "import numpy as np\n",
    "import matplotlib.pyplot as plt"
   ]
  },
  {
   "cell_type": "code",
   "execution_count": 2,
   "id": "8436f4e6",
   "metadata": {},
   "outputs": [],
   "source": [
    "from tensorflow.keras.datasets import mnist"
   ]
  },
  {
   "cell_type": "code",
   "execution_count": 3,
   "id": "5afbd19f",
   "metadata": {},
   "outputs": [],
   "source": [
    "from tensorflow.keras import layers, models\n",
    "from tensorflow.keras.utils import to_categorical"
   ]
  },
  {
   "cell_type": "code",
   "execution_count": 4,
   "id": "936b2f0e",
   "metadata": {},
   "outputs": [],
   "source": [
    "(train_images, train_labels), (test_images, test_labels) = mnist.load_data()"
   ]
  },
  {
   "cell_type": "code",
   "execution_count": 5,
   "id": "961d50eb",
   "metadata": {},
   "outputs": [
    {
     "data": {
      "image/png": "[encoded data removed]",
      "text/plain": [
       "<Figure size 1000x500 with 10 Axes>"
      ]
     },
     "metadata": {},
     "output_type": "display_data"
    }
   ],
   "source": [
    "plt.figure(figsize=(10, 5))\n",
    "for i in range(10):\n",
    "    plt.subplot(2, 5, i+1)\n",
    "    plt.imshow(train_images[i], cmap='gray')\n",
    "    plt.title(f\"Label: {train_labels[i]}\")\n",
    "    plt.axis('off')\n",
    "plt.show()"
   ]
  },
  {
   "cell_type": "code",
   "execution_count": 6,
   "id": "fa4f9405",
   "metadata": {},
   "outputs": [],
   "source": [
    "train_images = train_images.reshape((60000, 28 * 28))\n",
    "train_images = train_images.astype('float32') / 255\n",
    "test_images = test_images.reshape((10000, 28 * 28))\n",
    "test_images = test_images.astype('float32') / 255"
   ]
  },
  {
   "cell_type": "code",
   "execution_count": 7,
   "id": "5501f2cb",
   "metadata": {},
   "outputs": [],
   "source": [
    "train_labels = to_categorical(train_labels)\n",
    "test_labels = to_categorical(test_labels)"
   ]
  },
  {
   "cell_type": "code",
   "execution_count": 8,
   "id": "54fd0a98",
   "metadata": {},
   "outputs": [],
   "source": [
    "class AdaActActivation(layers.Layer):\n",
    "    def __init__(self, **kwargs):\n",
    "        super(AdaActActivation, self).__init__(**kwargs)\n",
    "        self.k0 = self.add_weight(name='k0', shape=(1,), initializer='random_normal', trainable=True)\n",
    "        self.k1 = self.add_weight(name='k1', shape=(1,), initializer='random_normal', trainable=True)\n",
    "\n",
    "    def call(self, inputs):\n",
    "        return self.k0 + self.k1 * inputs"
   ]
  },
  {
   "cell_type": "code",
   "execution_count": 9,
   "id": "740f9fa2",
   "metadata": {},
   "outputs": [],
   "source": [
    "model = models.Sequential([\n",
    "    layers.Dense(128, activation=AdaActActivation(), input_shape=(28 * 28,)),\n",
    "    layers.Dropout(0.5),  # Dropout layer with 50% dropout rate\n",
    "    layers.Dense(10, activation='softmax')\n",
    "])"
   ]
  },
  {
   "cell_type": "code",
   "execution_count": 10,
   "id": "372e17dc",
   "metadata": {},
   "outputs": [
    {
     "name": "stdout",
     "output_type": "stream",
     "text": [
      "Model: \"sequential\"\n",
      "_________________________________________________________________\n",
      " Layer (type)                Output Shape              Param #   \n",
      "=================================================================\n",
      " dense (Dense)               (None, 128)               100482    \n",
      "                                                                 \n",
      " dropout (Dropout)           (None, 128)               0         \n",
      "                                                                 \n",
      " dense_1 (Dense)             (None, 10)                1290      \n",
      "                                                                 \n",
      "=================================================================\n",
      "Total params: 101,772\n",
      "Trainable params: 101,772\n",
      "Non-trainable params: 0\n",
      "_________________________________________________________________\n"
     ]
    }
   ],
   "source": [
    "model.compile(optimizer='adam', loss='categorical_crossentropy', metrics=['accuracy'])\n",
    "model.summary()"
   ]
  },
  {
   "cell_type": "code",
   "execution_count": 11,
   "id": "aa3a7cbe",
   "metadata": {},
   "outputs": [],
   "source": [
    "epochs = 50\n",
    "batch_size = 128"
   ]
  },
  {
   "cell_type": "code",
   "execution_count": 12,
   "id": "9f29e3bc",
   "metadata": {},
   "outputs": [
    {
     "name": "stdout",
     "output_type": "stream",
     "text": [
      "Epoch 1/50\n",
      "469/469 [==============================] - 5s 7ms/step - loss: 0.6676 - accuracy: 0.8229 - val_loss: 0.3173 - val_accuracy: 0.9094\n",
      "Epoch 2/50\n",
      "469/469 [==============================] - 3s 6ms/step - loss: 0.3477 - accuracy: 0.9008 - val_loss: 0.2858 - val_accuracy: 0.9202\n",
      "Epoch 3/50\n",
      "469/469 [==============================] - 3s 6ms/step - loss: 0.3285 - accuracy: 0.9069 - val_loss: 0.2764 - val_accuracy: 0.9228\n",
      "Epoch 4/50\n",
      "469/469 [==============================] - 3s 5ms/step - loss: 0.3177 - accuracy: 0.9105 - val_loss: 0.2696 - val_accuracy: 0.9239\n",
      "Epoch 5/50\n",
      "469/469 [==============================] - 3s 6ms/step - loss: 0.3111 - accuracy: 0.9131 - val_loss: 0.2714 - val_accuracy: 0.9231\n",
      "Epoch 6/50\n",
      "469/469 [==============================] - 3s 6ms/step - loss: 0.3045 - accuracy: 0.9144 - val_loss: 0.2734 - val_accuracy: 0.9234\n",
      "Epoch 7/50\n",
      "469/469 [==============================] - 3s 6ms/step - loss: 0.3023 - accuracy: 0.9146 - val_loss: 0.2713 - val_accuracy: 0.9237\n",
      "Epoch 8/50\n",
      "469/469 [==============================] - 3s 6ms/step - loss: 0.2982 - accuracy: 0.9162 - val_loss: 0.2681 - val_accuracy: 0.9224\n",
      "Epoch 9/50\n",
      "469/469 [==============================] - 3s 6ms/step - loss: 0.2955 - accuracy: 0.9178 - val_loss: 0.2657 - val_accuracy: 0.9254\n",
      "Epoch 10/50\n",
      "469/469 [==============================] - 3s 6ms/step - loss: 0.2927 - accuracy: 0.9183 - val_loss: 0.2649 - val_accuracy: 0.9258\n",
      "Epoch 11/50\n",
      "469/469 [==============================] - 3s 6ms/step - loss: 0.2916 - accuracy: 0.9183 - val_loss: 0.2643 - val_accuracy: 0.9265\n",
      "Epoch 12/50\n",
      "469/469 [==============================] - 3s 6ms/step - loss: 0.2890 - accuracy: 0.9190 - val_loss: 0.2682 - val_accuracy: 0.9242\n",
      "Epoch 13/50\n",
      "469/469 [==============================] - 3s 6ms/step - loss: 0.2889 - accuracy: 0.9200 - val_loss: 0.2668 - val_accuracy: 0.9262\n",
      "Epoch 14/50\n",
      "469/469 [==============================] - 3s 6ms/step - loss: 0.2865 - accuracy: 0.9205 - val_loss: 0.2673 - val_accuracy: 0.9268\n",
      "Epoch 15/50\n",
      "469/469 [==============================] - 3s 6ms/step - loss: 0.2848 - accuracy: 0.9215 - val_loss: 0.2662 - val_accuracy: 0.9265\n",
      "Epoch 16/50\n",
      "469/469 [==============================] - 3s 6ms/step - loss: 0.2839 - accuracy: 0.9204 - val_loss: 0.2684 - val_accuracy: 0.9254\n",
      "Epoch 17/50\n",
      "469/469 [==============================] - 3s 6ms/step - loss: 0.2862 - accuracy: 0.9207 - val_loss: 0.2676 - val_accuracy: 0.9262\n",
      "Epoch 18/50\n",
      "469/469 [==============================] - 3s 6ms/step - loss: 0.2823 - accuracy: 0.9211 - val_loss: 0.2710 - val_accuracy: 0.9243\n",
      "Epoch 19/50\n",
      "469/469 [==============================] - 3s 6ms/step - loss: 0.2845 - accuracy: 0.9211 - val_loss: 0.2646 - val_accuracy: 0.9256\n",
      "Epoch 20/50\n",
      "469/469 [==============================] - 3s 6ms/step - loss: 0.2778 - accuracy: 0.9231 - val_loss: 0.2653 - val_accuracy: 0.9260\n",
      "Epoch 21/50\n",
      "469/469 [==============================] - 3s 6ms/step - loss: 0.2810 - accuracy: 0.9216 - val_loss: 0.2682 - val_accuracy: 0.9259\n",
      "Epoch 22/50\n",
      "469/469 [==============================] - 3s 6ms/step - loss: 0.2800 - accuracy: 0.9227 - val_loss: 0.2720 - val_accuracy: 0.9228\n",
      "Epoch 23/50\n",
      "469/469 [==============================] - 3s 6ms/step - loss: 0.2770 - accuracy: 0.9237 - val_loss: 0.2700 - val_accuracy: 0.9256\n",
      "Epoch 24/50\n",
      "469/469 [==============================] - 3s 6ms/step - loss: 0.2762 - accuracy: 0.9233 - val_loss: 0.2692 - val_accuracy: 0.9269\n",
      "Epoch 25/50\n",
      "469/469 [==============================] - 3s 6ms/step - loss: 0.2793 - accuracy: 0.9226 - val_loss: 0.2667 - val_accuracy: 0.9260\n",
      "Epoch 26/50\n",
      "469/469 [==============================] - 3s 6ms/step - loss: 0.2761 - accuracy: 0.9233 - val_loss: 0.2687 - val_accuracy: 0.9260\n",
      "Epoch 27/50\n",
      "469/469 [==============================] - 3s 7ms/step - loss: 0.2750 - accuracy: 0.9242 - val_loss: 0.2694 - val_accuracy: 0.9267\n",
      "Epoch 28/50\n",
      "469/469 [==============================] - 3s 6ms/step - loss: 0.2764 - accuracy: 0.9237 - val_loss: 0.2720 - val_accuracy: 0.9252\n",
      "Epoch 29/50\n",
      "469/469 [==============================] - 3s 6ms/step - loss: 0.2737 - accuracy: 0.9240 - val_loss: 0.2686 - val_accuracy: 0.9238\n",
      "Epoch 30/50\n",
      "469/469 [==============================] - 3s 6ms/step - loss: 0.2732 - accuracy: 0.9243 - val_loss: 0.2704 - val_accuracy: 0.9251\n",
      "Epoch 31/50\n",
      "469/469 [==============================] - 3s 7ms/step - loss: 0.2736 - accuracy: 0.9247 - val_loss: 0.2698 - val_accuracy: 0.9265\n",
      "Epoch 32/50\n",
      "469/469 [==============================] - 3s 7ms/step - loss: 0.2735 - accuracy: 0.9237 - val_loss: 0.2683 - val_accuracy: 0.9257\n",
      "Epoch 33/50\n",
      "469/469 [==============================] - 3s 6ms/step - loss: 0.2730 - accuracy: 0.9250 - val_loss: 0.2722 - val_accuracy: 0.9246\n",
      "Epoch 34/50\n",
      "469/469 [==============================] - 3s 6ms/step - loss: 0.2729 - accuracy: 0.9245 - val_loss: 0.2699 - val_accuracy: 0.9243\n",
      "Epoch 35/50\n",
      "469/469 [==============================] - 3s 6ms/step - loss: 0.2734 - accuracy: 0.9230 - val_loss: 0.2710 - val_accuracy: 0.9249\n",
      "Epoch 36/50\n",
      "469/469 [==============================] - 3s 6ms/step - loss: 0.2706 - accuracy: 0.9250 - val_loss: 0.2674 - val_accuracy: 0.9252\n",
      "Epoch 37/50\n",
      "469/469 [==============================] - 3s 6ms/step - loss: 0.2716 - accuracy: 0.9248 - val_loss: 0.2696 - val_accuracy: 0.9252\n",
      "Epoch 38/50\n",
      "469/469 [==============================] - 3s 6ms/step - loss: 0.2695 - accuracy: 0.9255 - val_loss: 0.2698 - val_accuracy: 0.9254\n",
      "Epoch 39/50\n",
      "469/469 [==============================] - 3s 6ms/step - loss: 0.2697 - accuracy: 0.9246 - val_loss: 0.2721 - val_accuracy: 0.9266\n",
      "Epoch 40/50\n",
      "469/469 [==============================] - 3s 6ms/step - loss: 0.2684 - accuracy: 0.9254 - val_loss: 0.2687 - val_accuracy: 0.9259\n",
      "Epoch 41/50\n",
      "469/469 [==============================] - 3s 6ms/step - loss: 0.2711 - accuracy: 0.9251 - val_loss: 0.2707 - val_accuracy: 0.9261\n",
      "Epoch 42/50\n",
      "469/469 [==============================] - 3s 6ms/step - loss: 0.2681 - accuracy: 0.9253 - val_loss: 0.2697 - val_accuracy: 0.9269\n",
      "Epoch 43/50\n",
      "469/469 [==============================] - 3s 6ms/step - loss: 0.2693 - accuracy: 0.9251 - val_loss: 0.2719 - val_accuracy: 0.9268\n",
      "Epoch 44/50\n",
      "469/469 [==============================] - 3s 6ms/step - loss: 0.2694 - accuracy: 0.9254 - val_loss: 0.2705 - val_accuracy: 0.9267\n",
      "Epoch 45/50\n",
      "469/469 [==============================] - 3s 6ms/step - loss: 0.2709 - accuracy: 0.9256 - val_loss: 0.2697 - val_accuracy: 0.9251\n",
      "Epoch 46/50\n",
      "469/469 [==============================] - 3s 6ms/step - loss: 0.2669 - accuracy: 0.9264 - val_loss: 0.2702 - val_accuracy: 0.9259\n",
      "Epoch 47/50\n",
      "469/469 [==============================] - 3s 6ms/step - loss: 0.2673 - accuracy: 0.9262 - val_loss: 0.2705 - val_accuracy: 0.9254\n",
      "Epoch 48/50\n",
      "469/469 [==============================] - 3s 6ms/step - loss: 0.2674 - accuracy: 0.9258 - val_loss: 0.2716 - val_accuracy: 0.9257\n",
      "Epoch 49/50\n",
      "469/469 [==============================] - 3s 6ms/step - loss: 0.2653 - accuracy: 0.9263 - val_loss: 0.2721 - val_accuracy: 0.9254\n",
      "Epoch 50/50\n",
      "469/469 [==============================] - 3s 6ms/step - loss: 0.2648 - accuracy: 0.9264 - val_loss: 0.2717 - val_accuracy: 0.9266\n"
     ]
    }
   ],
   "source": [
    "history = model.fit(train_images, train_labels, epochs=epochs, batch_size=batch_size, validation_data=(test_images, test_labels))"
   ]
  },
  {
   "cell_type": "code",
   "execution_count": 13,
   "id": "c585a556",
   "metadata": {},
   "outputs": [
    {
     "name": "stdout",
     "output_type": "stream",
     "text": [
      "313/313 [==============================] - 1s 3ms/step - loss: 0.2717 - accuracy: 0.9266\n",
      "Test loss: 0.2716657817363739\n",
      "Test accuracy: 0.9265999794006348\n"
     ]
    }
   ],
   "source": [
    "test_loss, test_accuracy = model.evaluate(test_images, test_labels)\n",
    "print('Test loss:', test_loss)\n",
    "print('Test accuracy:', test_accuracy)"
   ]
  },
  {
   "cell_type": "code",
   "execution_count": 14,
   "id": "cf2a0157",
   "metadata": {
    "scrolled": true
   },
   "outputs": [
    {
     "name": "stdout",
     "output_type": "stream",
     "text": [
      "1875/1875 [==============================] - 6s 3ms/step - loss: 0.2315 - accuracy: 0.9356\n",
      "Train loss: 0.23153337836265564\n",
      "Train accuracy: 0.9356333613395691\n"
     ]
    }
   ],
   "source": [
    "train_loss, train_accuracy = model.evaluate(train_images, train_labels)\n",
    "print('Train loss:', train_loss)\n",
    "print('Train accuracy:', train_accuracy)"
   ]
  },
  {
   "cell_type": "code",
   "execution_count": 23,
   "id": "3c669a51",
   "metadata": {},
   "outputs": [
    {
     "name": "stdout",
     "output_type": "stream",
     "text": [
      "Final Parameter Values:\n",
      "k0: [[-0.00412664  0.06696393  0.04010744 ... -0.07805671  0.0018708\n",
      "  -0.03192869]\n",
      " [ 0.03171688 -0.03811728 -0.01427029 ...  0.06210414  0.01382785\n",
      "  -0.06287655]\n",
      " [ 0.04776385 -0.01113971 -0.07310133 ...  0.04565761 -0.0453038\n",
      "   0.05455006]\n",
      " ...\n",
      " [-0.07730553  0.00837658 -0.00895406 ... -0.03941534 -0.05602497\n",
      "  -0.04994317]\n",
      " [-0.00011797  0.07500838  0.07035547 ... -0.00639993  0.06984466\n",
      "  -0.03784612]\n",
      " [ 0.01946759  0.05556733  0.06332815 ...  0.04884648 -0.01786111\n",
      "  -0.06072851]]\n",
      "k1: [-0.37863708 -0.34091693  0.10662314 -0.9122964   0.20952049 -0.57210284\n",
      " -0.68281955  0.59124404 -0.08031359 -0.058323    0.7389131   0.6090345\n",
      " -0.48545694 -0.06026981 -0.6875292   0.01417444 -0.8963777   1.0041745\n",
      "  0.35149106 -0.8628065   0.4641336   0.19580002 -0.80682003 -0.39488593\n",
      "  0.20668702 -0.29652494 -0.28113595  0.5332944  -0.55990976 -0.41854304\n",
      " -0.33755955  0.51824343  0.6580156   0.3646574  -0.41113657 -0.64530915\n",
      " -0.87507397  0.59184617 -0.7569148   0.2406197  -0.33551246  0.49473196\n",
      "  0.39396846 -0.25595462  0.2147484   0.5591685   0.63797283  0.14260231\n",
      "  0.05458286 -0.80683726  0.4580838  -0.07961911  0.04439614 -0.23016395\n",
      "  0.15786026  0.21296355 -0.12586471  1.0002284  -0.78946483 -0.06228315\n",
      "  0.055046    0.35197854  0.07137351  0.2446681  -0.2055894   0.17688693\n",
      " -0.13484138 -0.5740964  -0.55307204  0.59706384  0.23249635 -0.19535692\n",
      " -0.5674029   0.15442793 -0.06656738  0.46641213  0.11437289  0.5309876\n",
      "  0.24076809  0.04372255  0.47109443  0.5445509   0.82288426  0.5202692\n",
      " -0.42804414 -0.310098    0.39912513 -0.51817477 -0.28952426 -0.6980631\n",
      " -0.31853643 -0.61472225  0.42898688  0.6218505   0.11366472  1.1252718\n",
      " -0.4375707  -0.31608742 -0.49533752 -0.05882604  0.37112722 -0.6196542\n",
      " -0.3001791   0.32623065 -0.0378143   0.12915394  0.0997178  -0.20185293\n",
      "  0.36206722 -0.5391045   0.53593034 -0.9782448  -0.03296139  0.11955447\n",
      " -0.6591639   0.8699831   1.0229955   0.5428917   0.07086247  0.501991\n",
      "  0.64042324  0.857221   -0.773137   -0.21435499 -0.8632345  -0.3798481\n",
      "  0.68458015 -0.18768893]\n"
     ]
    }
   ],
   "source": [
    "final_params = model.get_weights()\n",
    "\n",
    "print(\"Final Parameter Values:\")\n",
    "print(\"k0:\", final_params[0])\n",
    "print(\"k1:\", final_params[1])\n"
   ]
  },
  {
   "cell_type": "code",
   "execution_count": 16,
   "id": "4115a36f",
   "metadata": {},
   "outputs": [
    {
     "data": {
      "image/png": "[encoded data removed]",
      "text/plain": [
       "<Figure size 640x480 with 1 Axes>"
      ]
     },
     "metadata": {},
     "output_type": "display_data"
    }
   ],
   "source": [
    "\n",
    "plt.plot(history.history['loss'], label='Training Loss')\n",
    "plt.plot(history.history['val_loss'], label='Validation Loss')\n",
    "plt.xlabel('Epochs')\n",
    "plt.ylabel('Loss')\n",
    "plt.title('Loss VS Epochs')\n",
    "plt.legend()\n",
    "plt.show()"
   ]
  },
  {
   "cell_type": "code",
   "execution_count": 17,
   "id": "0aa8711f",
   "metadata": {},
   "outputs": [
    {
     "name": "stdout",
     "output_type": "stream",
     "text": [
      "313/313 [==============================] - 1s 2ms/step\n"
     ]
    }
   ],
   "source": [
    "from sklearn.metrics import f1_score, classification_report, confusion_matrix\n",
    "test_predictions_prob = model.predict(test_images)\n",
    "test_predictions = np.argmax(test_predictions_prob, axis=1)\n",
    "f1 = f1_score(np.argmax(test_labels, axis=1), test_predictions, average='macro')"
   ]
  },
  {
   "cell_type": "code",
   "execution_count": 18,
   "id": "7d088833",
   "metadata": {},
   "outputs": [
    {
     "name": "stdout",
     "output_type": "stream",
     "text": [
      "Test Accuracy: 0.9266\n",
      "Test Loss: 0.2717\n",
      "F1-Score: 0.9257\n"
     ]
    }
   ],
   "source": [
    "print(f\"Test Accuracy: {test_accuracy:.4f}\")\n",
    "print(f\"Test Loss: {test_loss:.4f}\")\n",
    "print(f\"F1-Score: {f1:.4f}\")\n"
   ]
  },
  {
   "cell_type": "code",
   "execution_count": 19,
   "id": "6c6a5207",
   "metadata": {},
   "outputs": [
    {
     "name": "stdout",
     "output_type": "stream",
     "text": [
      "Classification Report:\n",
      "               precision    recall  f1-score   support\n",
      "\n",
      "           0       0.95      0.98      0.97       980\n",
      "           1       0.97      0.98      0.97      1135\n",
      "           2       0.92      0.90      0.91      1032\n",
      "           3       0.92      0.90      0.91      1010\n",
      "           4       0.94      0.93      0.93       982\n",
      "           5       0.90      0.89      0.89       892\n",
      "           6       0.95      0.95      0.95       958\n",
      "           7       0.94      0.91      0.93      1028\n",
      "           8       0.87      0.90      0.88       974\n",
      "           9       0.90      0.92      0.91      1009\n",
      "\n",
      "    accuracy                           0.93     10000\n",
      "   macro avg       0.93      0.93      0.93     10000\n",
      "weighted avg       0.93      0.93      0.93     10000\n",
      "\n"
     ]
    }
   ],
   "source": [
    "target_names = [str(i) for i in range(10)]\n",
    "classification_rep = classification_report(np.argmax(test_labels, axis=1), test_predictions, target_names=target_names)\n",
    "print(\"Classification Report:\\n\", classification_rep)"
   ]
  },
  {
   "cell_type": "code",
   "execution_count": 20,
   "id": "f8391e42",
   "metadata": {},
   "outputs": [
    {
     "name": "stdout",
     "output_type": "stream",
     "text": [
      "Confusion Matrix:\n",
      " [[ 965    0    1    2    0    5    4    2    1    0]\n",
      " [   0 1110    5    2    0    1    3    1   13    0]\n",
      " [   7    6  933   15    9    3   10    7   37    5]\n",
      " [   5    2   21  905    1   32    2   10   26    6]\n",
      " [   1    1    7    2  912    0    9    4    9   37]\n",
      " [   8    2    2   24    9  791   14    6   33    3]\n",
      " [  11    3   10    1    7   16  907    1    2    0]\n",
      " [   3    9   24    5    7    1    0  938    3   38]\n",
      " [   9    8    7   18    9   21    8    8  875   11]\n",
      " [  10    7    1    7   21    9    0   16    8  930]]\n"
     ]
    }
   ],
   "source": [
    "conf_matrix = confusion_matrix(np.argmax(test_labels, axis=1), test_predictions)\n",
    "print(\"Confusion Matrix:\\n\", conf_matrix)"
   ]
  },
  {
   "cell_type": "code",
   "execution_count": 21,
   "id": "6cefbe76",
   "metadata": {},
   "outputs": [
    {
     "name": "stderr",
     "output_type": "stream",
     "text": [
      "WARNING:absl:Found untraced functions such as _update_step_xla, ada_act_activation_layer_call_fn, ada_act_activation_layer_call_and_return_conditional_losses while saving (showing 3 of 3). These functions will not be directly callable after loading.\n"
     ]
    },
    {
     "name": "stdout",
     "output_type": "stream",
     "text": [
      "INFO:tensorflow:Assets written to: happymonk\\assets\n"
     ]
    },
    {
     "name": "stderr",
     "output_type": "stream",
     "text": [
      "INFO:tensorflow:Assets written to: happymonk\\assets\n"
     ]
    }
   ],
   "source": [
    "tf.saved_model.save(model, 'happymonk')"
   ]
  }
 ],
 "metadata": {
  "kernelspec": {
   "display_name": "Python 3 (ipykernel)",
   "language": "python",
   "name": "python3"
  },
  "language_info": {
   "codemirror_mode": {
    "name": "ipython",
    "version": 3
   },
   "file_extension": ".py",
   "mimetype": "text/x-python",
   "name": "python",
   "nbconvert_exporter": "python",
   "pygments_lexer": "ipython3",
   "version": "3.10.9"
  }
 },
 "nbformat": 4,
 "nbformat_minor": 5
}
